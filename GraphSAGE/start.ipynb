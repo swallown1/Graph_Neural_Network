{
 "cells": [
  {
   "cell_type": "code",
   "execution_count": null,
   "metadata": {},
   "outputs": [],
   "source": [
    "import numpy as np\n",
    "from utils import preprocess_adj,plot_embeddings,load_data_v1\n",
    "\n",
    "import tensorflow as tf\n",
    "import networkx as nx\n",
    "from tensorflow.python.keras.callbacks import ModelCheckpoint\n",
    "from tensorflow.python.keras.optimizers import Adam\n",
    "from tensorflow.python.keras.layers import Lambda\n",
    "from tensorflow.python.keras.models import  Model"
   ]
  },
  {
   "cell_type": "code",
   "execution_count": 4,
   "metadata": {},
   "outputs": [],
   "source": [
    "from graphsage import sample_neighs,GraphSAGE"
   ]
  },
  {
   "cell_type": "code",
   "execution_count": 5,
   "metadata": {},
   "outputs": [
    {
     "name": "stdout",
     "output_type": "stream",
     "text": [
      "Dataset has 2708 nodes, 5429 edges, 1433 features.\n"
     ]
    }
   ],
   "source": [
    " A, features, y_train, y_val, y_test, train_mask, val_mask, test_mask = load_data_v1(\n",
    "        'cora')"
   ]
  },
  {
   "cell_type": "code",
   "execution_count": 6,
   "metadata": {},
   "outputs": [
    {
     "data": {
      "text/plain": [
       "<2708x1433 sparse matrix of type '<class 'numpy.float32'>'\n",
       "\twith 3880564 stored elements in Compressed Sparse Row format>"
      ]
     },
     "execution_count": 6,
     "metadata": {},
     "output_type": "execute_result"
    }
   ],
   "source": [
    "features"
   ]
  },
  {
   "cell_type": "code",
   "execution_count": 7,
   "metadata": {},
   "outputs": [],
   "source": [
    "#对列进行标准化\n",
    "features /=features.sum(axis=1).reshape(-1,1)"
   ]
  },
  {
   "cell_type": "code",
   "execution_count": 8,
   "metadata": {},
   "outputs": [
    {
     "data": {
      "text/plain": [
       "AtlasView({569: {'weight': 1.0}, 931: {'weight': 1.0}, 1185: {'weight': 1.0}})"
      ]
     },
     "execution_count": 8,
     "metadata": {},
     "output_type": "execute_result"
    }
   ],
   "source": [
    "# 将邻接矩阵转换成图结构\n",
    "G= nx.from_scipy_sparse_matrix(A,create_using=nx.DiGraph())\n",
    "G[1000]"
   ]
  },
  {
   "cell_type": "code",
   "execution_count": 9,
   "metadata": {},
   "outputs": [],
   "source": [
    "# 加上自连接  对邻接矩阵进行正则化 防止受值大的节点影大\n",
    "A = preprocess_adj(A)"
   ]
  },
  {
   "cell_type": "code",
   "execution_count": 10,
   "metadata": {},
   "outputs": [],
   "source": [
    "indexs = np.arange(A.shape[0])\n",
    "neigh_number = [10,25]   #采用的邻居节点数\n",
    "neigh_maxlen = []\n",
    "\n",
    "model_input = [features,np.asarray(indexs,dtype=np.int)]"
   ]
  },
  {
   "cell_type": "code",
   "execution_count": 11,
   "metadata": {},
   "outputs": [],
   "source": [
    "for num in neigh_number:\n",
    "    sample_neigh ,sample_neigh_len = sample_neighs(\n",
    "        G,indexs,num,self_loop=False)\n",
    "    model_input.extend([sample_neigh])\n",
    "    neigh_maxlen.append(max(sample_neigh_len))"
   ]
  },
  {
   "cell_type": "code",
   "execution_count": 11,
   "metadata": {
    "collapsed": true
   },
   "outputs": [
    {
     "data": {
      "text/plain": [
       "[matrix([[0., 0., 0., ..., 0., 0., 0.],\n",
       "         [0., 0., 0., ..., 0., 0., 0.],\n",
       "         [0., 0., 0., ..., 0., 0., 0.],\n",
       "         ...,\n",
       "         [0., 0., 0., ..., 0., 0., 0.],\n",
       "         [0., 0., 0., ..., 0., 0., 0.],\n",
       "         [0., 0., 0., ..., 0., 0., 0.]], dtype=float32),\n",
       " array([   0,    1,    2, ..., 2705, 2706, 2707]),\n",
       " array([[ 544,  544,  435, ...,   14,  544,   14],\n",
       "        [ 344,  344,  344, ...,  344,  344,  344],\n",
       "        [ 552,  410,  552, ...,  410,  471,  410],\n",
       "        ...,\n",
       "        [1840, 1839, 1840, ..., 1784, 2216, 1839],\n",
       "        [1640, 1640, 1640, ..., 1046, 1752, 1752],\n",
       "        [2344, 2344, 2344, ..., 1389, 1389, 1389]], dtype=int32),\n",
       " array([[ 544,    8,  258, ...,  258,   14,  544],\n",
       "        [ 344,  344,  344, ...,  344,  344,  344],\n",
       "        [ 410,  552,  552, ...,  552,  565,  552],\n",
       "        ...,\n",
       "        [1839, 2216, 2216, ..., 1784, 1839, 1839],\n",
       "        [1640, 1138, 1138, ..., 1138, 1640, 1752],\n",
       "        [2344,  774, 2344, ..., 2344,  774, 2344]], dtype=int32)]"
      ]
     },
     "execution_count": 11,
     "metadata": {},
     "output_type": "execute_result"
    }
   ],
   "source": [
    "model_input"
   ]
  },
  {
   "cell_type": "code",
   "execution_count": 12,
   "metadata": {},
   "outputs": [
    {
     "data": {
      "text/plain": [
       "[10, 25]"
      ]
     },
     "execution_count": 12,
     "metadata": {},
     "output_type": "execute_result"
    }
   ],
   "source": [
    "neigh_maxlen"
   ]
  },
  {
   "cell_type": "code",
   "execution_count": 21,
   "metadata": {},
   "outputs": [],
   "source": [
    "model = GraphSAGE(feature_dim=features.shape[1],\n",
    "                 neighbor_num=neigh_maxlen,\n",
    "                 n_hidden=16,\n",
    "                 n_classes=y_train.shape[1],\n",
    "                 use_bias=True,\n",
    "                 activation=tf.nn.relu,\n",
    "                 aggregator_type='mean',\n",
    "                 dropout_rate=0.5,l2_reg=2.5e-4)\n",
    "\n",
    "model.compile('adam','categorical_crossentropy',\n",
    "             weighted_metrics=['categorical_crossentropy','acc'])\n",
    "\n",
    "val_data = (model_input,y_val,val_mask)"
   ]
  },
  {
   "cell_type": "code",
   "execution_count": 22,
   "metadata": {},
   "outputs": [],
   "source": [
    " mc_callback = ModelCheckpoint('./log/best_model.h5',\n",
    "                                  monitor='val_weighted_categorical_crossentropy',\n",
    "                                  save_best_only=True,\n",
    "                                  save_weights_only=True)"
   ]
  },
  {
   "cell_type": "code",
   "execution_count": 23,
   "metadata": {},
   "outputs": [],
   "source": [
    "from keras import backend as K\n",
    "y_train = K.cast_to_floatx(y_train) "
   ]
  },
  {
   "cell_type": "code",
   "execution_count": null,
   "metadata": {},
   "outputs": [],
   "source": [
    "print(\"start training\")\n",
    "\n",
    "model.fit(model_input, y_train, sample_weight=train_mask, validation_data=val_data,\n",
    "              batch_size=A.shape[0], epochs=20, shuffle=False, verbose=2,\n",
    "              callbacks=[mc_callback])\n",
    "\n"
   ]
  },
  {
   "cell_type": "code",
   "execution_count": null,
   "metadata": {},
   "outputs": [],
   "source": []
  },
  {
   "cell_type": "code",
   "execution_count": null,
   "metadata": {},
   "outputs": [],
   "source": []
  },
  {
   "cell_type": "code",
   "execution_count": null,
   "metadata": {},
   "outputs": [],
   "source": []
  },
  {
   "cell_type": "code",
   "execution_count": null,
   "metadata": {},
   "outputs": [],
   "source": []
  },
  {
   "cell_type": "code",
   "execution_count": null,
   "metadata": {},
   "outputs": [],
   "source": []
  },
  {
   "cell_type": "code",
   "execution_count": null,
   "metadata": {},
   "outputs": [],
   "source": []
  },
  {
   "cell_type": "code",
   "execution_count": null,
   "metadata": {},
   "outputs": [],
   "source": []
  },
  {
   "cell_type": "code",
   "execution_count": null,
   "metadata": {},
   "outputs": [],
   "source": []
  },
  {
   "cell_type": "code",
   "execution_count": null,
   "metadata": {},
   "outputs": [],
   "source": []
  },
  {
   "cell_type": "code",
   "execution_count": null,
   "metadata": {},
   "outputs": [],
   "source": []
  },
  {
   "cell_type": "code",
   "execution_count": null,
   "metadata": {},
   "outputs": [],
   "source": []
  },
  {
   "cell_type": "code",
   "execution_count": null,
   "metadata": {},
   "outputs": [],
   "source": []
  },
  {
   "cell_type": "code",
   "execution_count": null,
   "metadata": {},
   "outputs": [],
   "source": []
  }
 ],
 "metadata": {
  "kernelspec": {
   "display_name": "Python 3",
   "language": "python",
   "name": "python3"
  },
  "language_info": {
   "codemirror_mode": {
    "name": "ipython",
    "version": 3
   },
   "file_extension": ".py",
   "mimetype": "text/x-python",
   "name": "python",
   "nbconvert_exporter": "python",
   "pygments_lexer": "ipython3",
   "version": "3.5.6"
  }
 },
 "nbformat": 4,
 "nbformat_minor": 4
}
